{
  "nbformat": 4,
  "nbformat_minor": 0,
  "metadata": {
    "colab": {
      "name": "Untitled1.ipynb",
      "provenance": [],
      "collapsed_sections": [],
      "authorship_tag": "ABX9TyNgdYMySFWKTT0lOHpYcZ1n",
      "include_colab_link": true
    },
    "kernelspec": {
      "name": "python3",
      "display_name": "Python 3"
    }
  },
  "cells": [
    {
      "cell_type": "markdown",
      "metadata": {
        "id": "view-in-github",
        "colab_type": "text"
      },
      "source": [
        "<a href=\"https://colab.research.google.com/github/limjun92/limjun92.github.io/blob/master/_data/Untitled1.ipynb\" target=\"_parent\"><img src=\"https://colab.research.google.com/assets/colab-badge.svg\" alt=\"Open In Colab\"/></a>"
      ]
    },
    {
      "cell_type": "code",
      "metadata": {
        "id": "PLETyZZ7dAn0",
        "colab_type": "code",
        "colab": {}
      },
      "source": [
        "import requests\n",
        "import pandas as pd"
      ],
      "execution_count": 0,
      "outputs": []
    },
    {
      "cell_type": "code",
      "metadata": {
        "id": "KYR0SAned4ZK",
        "colab_type": "code",
        "colab": {}
      },
      "source": [
        "url2 = \"https://8oi9s0nnth.apigw.ntruss.com/corona19-masks/v1/sales/json?page=1\"\n",
        "res = requests.get(url2)\n",
        "text = res.text\n",
        "corona19_mask = json.loads(text)\n",
        "\n",
        "# print(json.dumps(corona19_mask,indent=4,sort_keys = True))"
      ],
      "execution_count": 0,
      "outputs": []
    },
    {
      "cell_type": "code",
      "metadata": {
        "id": "9na7pVULgbN9",
        "colab_type": "code",
        "colab": {
          "base_uri": "https://localhost:8080/",
          "height": 348
        },
        "outputId": "04b0ad43-94f5-47af-f83c-71bc569b77e8"
      },
      "source": [
        "corona19_mask_list = []\n",
        "for i in corona19_mask['sales']:\n",
        "  corona19_mask_list.append([i['created_at'],i['code'],i['remain_stat']])\n",
        "corona19_mask_dataframe = pd.DataFrame(corona19_mask_list)\n",
        "\n",
        "corona19_mask_dataframe.head(10)"
      ],
      "execution_count": 22,
      "outputs": [
        {
          "output_type": "execute_result",
          "data": {
            "text/html": [
              "<div>\n",
              "<style scoped>\n",
              "    .dataframe tbody tr th:only-of-type {\n",
              "        vertical-align: middle;\n",
              "    }\n",
              "\n",
              "    .dataframe tbody tr th {\n",
              "        vertical-align: top;\n",
              "    }\n",
              "\n",
              "    .dataframe thead th {\n",
              "        text-align: right;\n",
              "    }\n",
              "</style>\n",
              "<table border=\"1\" class=\"dataframe\">\n",
              "  <thead>\n",
              "    <tr style=\"text-align: right;\">\n",
              "      <th></th>\n",
              "      <th>0</th>\n",
              "      <th>1</th>\n",
              "      <th>2</th>\n",
              "    </tr>\n",
              "  </thead>\n",
              "  <tbody>\n",
              "    <tr>\n",
              "      <th>0</th>\n",
              "      <td>2020/06/08 14:55:00</td>\n",
              "      <td>31837492</td>\n",
              "      <td>plenty</td>\n",
              "    </tr>\n",
              "    <tr>\n",
              "      <th>1</th>\n",
              "      <td>2020/06/08 15:00:00</td>\n",
              "      <td>21836841</td>\n",
              "      <td>plenty</td>\n",
              "    </tr>\n",
              "    <tr>\n",
              "      <th>2</th>\n",
              "      <td>2020/06/08 15:00:00</td>\n",
              "      <td>37839128</td>\n",
              "      <td>some</td>\n",
              "    </tr>\n",
              "    <tr>\n",
              "      <th>3</th>\n",
              "      <td>2020/06/08 15:00:00</td>\n",
              "      <td>11831049</td>\n",
              "      <td>some</td>\n",
              "    </tr>\n",
              "    <tr>\n",
              "      <th>4</th>\n",
              "      <td>2020/06/08 15:00:00</td>\n",
              "      <td>21839271</td>\n",
              "      <td>plenty</td>\n",
              "    </tr>\n",
              "    <tr>\n",
              "      <th>5</th>\n",
              "      <td>2020/06/08 15:00:00</td>\n",
              "      <td>11823283</td>\n",
              "      <td>plenty</td>\n",
              "    </tr>\n",
              "    <tr>\n",
              "      <th>6</th>\n",
              "      <td>2020/06/08 15:00:00</td>\n",
              "      <td>41826051</td>\n",
              "      <td>plenty</td>\n",
              "    </tr>\n",
              "    <tr>\n",
              "      <th>7</th>\n",
              "      <td>2020/06/08 15:00:00</td>\n",
              "      <td>21801541</td>\n",
              "      <td>plenty</td>\n",
              "    </tr>\n",
              "    <tr>\n",
              "      <th>8</th>\n",
              "      <td>2020/06/08 14:55:00</td>\n",
              "      <td>12824151</td>\n",
              "      <td>plenty</td>\n",
              "    </tr>\n",
              "    <tr>\n",
              "      <th>9</th>\n",
              "      <td>2020/06/07 23:55:00</td>\n",
              "      <td>38824060</td>\n",
              "      <td>plenty</td>\n",
              "    </tr>\n",
              "  </tbody>\n",
              "</table>\n",
              "</div>"
            ],
            "text/plain": [
              "                     0         1       2\n",
              "0  2020/06/08 14:55:00  31837492  plenty\n",
              "1  2020/06/08 15:00:00  21836841  plenty\n",
              "2  2020/06/08 15:00:00  37839128    some\n",
              "3  2020/06/08 15:00:00  11831049    some\n",
              "4  2020/06/08 15:00:00  21839271  plenty\n",
              "5  2020/06/08 15:00:00  11823283  plenty\n",
              "6  2020/06/08 15:00:00  41826051  plenty\n",
              "7  2020/06/08 15:00:00  21801541  plenty\n",
              "8  2020/06/08 14:55:00  12824151  plenty\n",
              "9  2020/06/07 23:55:00  38824060  plenty"
            ]
          },
          "metadata": {
            "tags": []
          },
          "execution_count": 22
        }
      ]
    }
  ]
}