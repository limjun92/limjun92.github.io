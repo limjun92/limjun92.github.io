{
 "cells": [
  {
   "cell_type": "code",
   "execution_count": 1,
   "metadata": {},
   "outputs": [
    {
     "name": "stdout",
     "output_type": "stream",
     "text": [
      "오류가 발생하였습니다.\n",
      "invalid literal for int() with base 10: 'abcd'\n",
      "finally가 실행되었습니다\n"
     ]
    }
   ],
   "source": [
    "try:\n",
    "    int(\"abcd\")\n",
    "    print(\"try가 모두 실행되었습니다.\")\n",
    "except Exception as e :\n",
    "    print(\"오류가 발생하였습니다.\")\n",
    "    print(e)\n",
    "finally:\n",
    "    print(\"finally가 실행되었습니다\")"
   ]
  },
  {
   "cell_type": "code",
   "execution_count": 2,
   "metadata": {},
   "outputs": [
    {
     "name": "stdout",
     "output_type": "stream",
     "text": [
      "try가 모두 실행되었습니다.\n",
      "finally가 실행되었습니다\n"
     ]
    }
   ],
   "source": [
    "try:\n",
    "    int(1000)\n",
    "    print(\"try가 모두 실행되었습니다.\")\n",
    "except Exception as e :\n",
    "    print(\"오류가 발생하였습니다.\")\n",
    "    print(e)\n",
    "finally:\n",
    "    print(\"finally가 실행되었습니다\")"
   ]
  },
  {
   "cell_type": "code",
   "execution_count": null,
   "metadata": {},
   "outputs": [],
   "source": []
  }
 ],
 "metadata": {
  "kernelspec": {
   "display_name": "Python 3",
   "language": "python",
   "name": "python3"
  },
  "language_info": {
   "codemirror_mode": {
    "name": "ipython",
    "version": 3
   },
   "file_extension": ".py",
   "mimetype": "text/x-python",
   "name": "python",
   "nbconvert_exporter": "python",
   "pygments_lexer": "ipython3",
   "version": "3.7.6"
  }
 },
 "nbformat": 4,
 "nbformat_minor": 4
}
