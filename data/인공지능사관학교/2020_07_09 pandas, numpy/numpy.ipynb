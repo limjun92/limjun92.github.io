{
 "cells": [
  {
   "cell_type": "code",
   "execution_count": 77,
   "metadata": {},
   "outputs": [
    {
     "name": "stdout",
     "output_type": "stream",
     "text": [
      "[2 1]\n",
      "[3 2 1]\n",
      "[[2 4 1]\n",
      " [6 3 5]]\n"
     ]
    }
   ],
   "source": [
    "## 벡터의 표현\n",
    "#```python\n",
    "import numpy as np \n",
    "a = np.array([2,1])\n",
    "print(a)\n",
    "\n",
    "b = np.array([3,2,1])\n",
    "print(b)\n",
    "\n",
    "A = np.array([[2,4,1],[6,3,5]])\n",
    "print(A)\n",
    "\n",
    "# 벡터는 numpy를 사용하여 나타낼수 있다\n",
    "#```"
   ]
  },
  {
   "cell_type": "code",
   "execution_count": 78,
   "metadata": {},
   "outputs": [
    {
     "name": "stdout",
     "output_type": "stream",
     "text": [
      "[4 5]\n",
      "[ 2 -1]\n",
      "3.605551275463989\n",
      "3.1622776601683795\n",
      "3.605551275463989\n",
      "3.1622776601683795\n"
     ]
    }
   ],
   "source": [
    "### 벡터의 기본 연산\n",
    "#```python\n",
    "import numpy as np\n",
    "import math\n",
    "\n",
    "a = np.array([3,2])\n",
    "b = np.array([1,3])\n",
    "\n",
    "print(a + b)\n",
    "print(a - b)\n",
    "# 벡터의 합과 차\n",
    "\n",
    "print(np.linalg.norm(a))\n",
    "print(np.linalg.norm(b))\n",
    "# 벡터의 크기를 구하는 1번 방식\n",
    "\n",
    "def norm(x):\n",
    "    return math.sqrt(sum([i ** 2 for i in x]))\n",
    "\n",
    "print(norm(a))\n",
    "print(norm(b))\n",
    "# 벡터의 크기를 구하는 2번 방식\n",
    "\n",
    "# 벡터의 크기는 피타고라스 연산을 사용하여 구할수 있다.\n",
    "#```"
   ]
  },
  {
   "cell_type": "code",
   "execution_count": 79,
   "metadata": {},
   "outputs": [
    {
     "name": "stdout",
     "output_type": "stream",
     "text": [
      "11\n",
      "0\n"
     ]
    }
   ],
   "source": [
    "### 벡터의 내적 \n",
    "#```python\n",
    "\n",
    "# 두 벡터가 수직일 때는 벡터의 내적은 항상 0입니다\n",
    "# 내적이 양수 일때는 두 벡터가 이루는 각이 90도 보다 작고, 내적이 음수 일때는 \n",
    "# 두 벡터가 이루는 각이 90도보다 커진다\n",
    "\n",
    "import numpy as np\n",
    "\n",
    "a = np.array([3,2])\n",
    "b = np.array([1,4])\n",
    "\n",
    "print(a.dot(b))\n",
    "\n",
    "c = np.array([2,1])\n",
    "d = np.array([-1,2])\n",
    "\n",
    "print(c.dot(d))\n",
    "# dot을 사용하여 두 벡터의 내적을 구할 수 있다\n",
    "# 두 벡터 a, b의 방향이 같을 때 내적을 계산하면 |a||b|고 내적의 최댓값이다\n",
    "# 두 벡터 a, b의 방향이 반대일 때 내적을 계산하면 -|a||b|고 내적의 최솟값이다\n",
    "# 두 벡터가 이루는 방향으로 내적이 최댓값인지 최솟값인지 알 수 있다\n",
    "\n",
    "# 이는 신경망에서 최솟값을 계산하고 싶을 때 응용된다\n",
    "#```"
   ]
  },
  {
   "cell_type": "code",
   "execution_count": 80,
   "metadata": {},
   "outputs": [
    {
     "name": "stdout",
     "output_type": "stream",
     "text": [
      "[[ 4  6  8]\n",
      " [ 7  9 11]]\n",
      "[[-2 -2 -2]\n",
      " [-1 -1 -1]]\n"
     ]
    }
   ],
   "source": [
    "### 행렬의 덧셈과 뺄셈\n",
    "#```python\n",
    "import numpy as np\n",
    "\n",
    "X = np.array([[1,2,3],[3,4,5]])\n",
    "Y = np.array([[3,4,5],[4,5,6]])\n",
    "\n",
    "print(X + Y)\n",
    "print(X - Y)\n",
    "#```"
   ]
  },
  {
   "cell_type": "code",
   "execution_count": 81,
   "metadata": {},
   "outputs": [
    {
     "name": "stdout",
     "output_type": "stream",
     "text": [
      "[[[26 32]\n",
      "  [50 62]]]\n",
      "[[26 32]\n",
      " [50 62]]\n"
     ]
    }
   ],
   "source": [
    "### 행렬의 곱셈\n",
    "#```python\n",
    "# m * k행렬과 k * n행렬의 결과는 m * n행렬이 나온다\n",
    "\n",
    "import numpy as np\n",
    "\n",
    "A = np.array([[[1,2,3],[3,4,5]]])\n",
    "B = np.array([[3,4],[4,5],[5,6]])\n",
    "\n",
    "print(A.dot(B))\n",
    "\n",
    "C = np.matrix([[1,2,3],[3,4,5]])\n",
    "D = np.matrix([[3,4],[4,5],[5,6]])\n",
    "\n",
    "# matrix를 사용해서 행렬을 만들수 있다\n",
    "# 행렬은 교환법칙이 성립하지 않는다. AB != BA\n",
    "print(C * D)\n",
    "#```"
   ]
  },
  {
   "cell_type": "code",
   "execution_count": 82,
   "metadata": {},
   "outputs": [],
   "source": [
    "### 단위행렬\n",
    "#```python\n",
    "# 대각선 원소가 1이고 나머지 원소가 0인 행렬\n",
    "# E로 표현\n",
    "#```"
   ]
  },
  {
   "cell_type": "code",
   "execution_count": null,
   "metadata": {},
   "outputs": [],
   "source": [
    "### 전치행렬\n",
    "#```python\n",
    "# 행렬의 행과 열을 교환한 행렬\n",
    "# 전치행렬의 전치행렬은 원래의 행렬 \n",
    "# T를 사용하여 표현\n",
    "#```"
   ]
  },
  {
   "cell_type": "code",
   "execution_count": 83,
   "metadata": {},
   "outputs": [
    {
     "name": "stdout",
     "output_type": "stream",
     "text": [
      "[[ 3. -5.]\n",
      " [-1.  2.]]\n"
     ]
    }
   ],
   "source": [
    "### 역행렬\n",
    "#```python\n",
    "# AB가 E(단위행렬)이면 B를 A의 역행렬이라고 하고 A^-1로 표현한다\n",
    "\n",
    "import numpy as np\n",
    "A = np.array([[2,5],[1,3]])\n",
    "\n",
    "print(np.linalg.inv(A))\n",
    "# 역행렬을 구하는법\n",
    "#```"
   ]
  },
  {
   "cell_type": "code",
   "execution_count": 84,
   "metadata": {},
   "outputs": [
    {
     "name": "stdout",
     "output_type": "stream",
     "text": [
      "C:\\Users\\user\\Desktop\\인공지능사관\n"
     ]
    }
   ],
   "source": [
    "## Pandas\n",
    "#```python\n",
    "# 데이터를 불러올수 있다\n",
    "\n",
    "# 경로 설정이 어려울 경우 경로를 확인할 수 있다\n",
    "import os\n",
    "print(os.getcwd())\n",
    "#```"
   ]
  },
  {
   "cell_type": "code",
   "execution_count": 85,
   "metadata": {},
   "outputs": [
    {
     "name": "stdout",
     "output_type": "stream",
     "text": [
      "       country continent  year  lifeExp       pop   gdpPercap\n",
      "0  Afghanistan      Asia  1952   28.801   8425333  779.445314\n",
      "1  Afghanistan      Asia  1957   30.332   9240934  820.853030\n",
      "2  Afghanistan      Asia  1962   31.997  10267083  853.100710\n",
      "3  Afghanistan      Asia  1967   34.020  11537966  836.197138\n",
      "4  Afghanistan      Asia  1972   36.088  13079460  739.981106\n"
     ]
    }
   ],
   "source": [
    "#```python\n",
    "### 출력확인\n",
    "import pandas as pd\n",
    "df = pd.read_csv('gapminder.tsv',sep='\\t')\n",
    "print(df.head())\n",
    "#```"
   ]
  },
  {
   "cell_type": "code",
   "execution_count": 86,
   "metadata": {},
   "outputs": [
    {
     "name": "stdout",
     "output_type": "stream",
     "text": [
      "<class 'pandas.core.frame.DataFrame'>\n"
     ]
    }
   ],
   "source": [
    "### 변수 타입확인\n",
    "#```python\n",
    "print(type(df))\n",
    "#```"
   ]
  },
  {
   "cell_type": "code",
   "execution_count": 87,
   "metadata": {},
   "outputs": [
    {
     "name": "stdout",
     "output_type": "stream",
     "text": [
      "(1704, 6)\n"
     ]
    }
   ],
   "source": [
    "### 데이터의 행렬 크기 확인\n",
    "#```python\n",
    "print(df.shape)\n",
    "#```"
   ]
  },
  {
   "cell_type": "code",
   "execution_count": 88,
   "metadata": {},
   "outputs": [
    {
     "name": "stdout",
     "output_type": "stream",
     "text": [
      "Index(['country', 'continent', 'year', 'lifeExp', 'pop', 'gdpPercap'], dtype='object')\n"
     ]
    }
   ],
   "source": [
    "### 데이터의 컬럼값 확인\n",
    "#```python\n",
    "print(df.columns)\n",
    "#```"
   ]
  },
  {
   "cell_type": "code",
   "execution_count": 89,
   "metadata": {},
   "outputs": [
    {
     "name": "stdout",
     "output_type": "stream",
     "text": [
      "country       object\n",
      "continent     object\n",
      "year           int64\n",
      "lifeExp      float64\n",
      "pop            int64\n",
      "gdpPercap    float64\n",
      "dtype: object\n"
     ]
    }
   ],
   "source": [
    "### 데이터 타입확인\n",
    "#```python\n",
    "print(df.dtypes)\n",
    "#```"
   ]
  },
  {
   "cell_type": "code",
   "execution_count": 90,
   "metadata": {},
   "outputs": [
    {
     "name": "stdout",
     "output_type": "stream",
     "text": [
      "0    Afghanistan\n",
      "1    Afghanistan\n",
      "2    Afghanistan\n",
      "3    Afghanistan\n",
      "4    Afghanistan\n",
      "Name: country, dtype: object\n",
      "==============\n",
      "1699    Zimbabwe\n",
      "1700    Zimbabwe\n",
      "1701    Zimbabwe\n",
      "1702    Zimbabwe\n",
      "1703    Zimbabwe\n",
      "Name: country, dtype: object\n"
     ]
    }
   ],
   "source": [
    "### 열 단위로 데이터 추출하기\n",
    "#```python\n",
    "country_df = df['country']\n",
    "print(country_df.head())\n",
    "print(\"==============\")\n",
    "print(country_df.tail())\n",
    "#```"
   ]
  },
  {
   "cell_type": "code",
   "execution_count": 91,
   "metadata": {},
   "outputs": [
    {
     "name": "stdout",
     "output_type": "stream",
     "text": [
      "       country continent  year\n",
      "0  Afghanistan      Asia  1952\n",
      "1  Afghanistan      Asia  1957\n",
      "2  Afghanistan      Asia  1962\n",
      "3  Afghanistan      Asia  1967\n",
      "4  Afghanistan      Asia  1972\n",
      "==============\n",
      "       country continent  year\n",
      "1699  Zimbabwe    Africa  1987\n",
      "1700  Zimbabwe    Africa  1992\n",
      "1701  Zimbabwe    Africa  1997\n",
      "1702  Zimbabwe    Africa  2002\n",
      "1703  Zimbabwe    Africa  2007\n"
     ]
    }
   ],
   "source": [
    "### 여러 열 단위 추출하기\n",
    "#```python\n",
    "subset = df[['country','continent','year']]\n",
    "print(subset.head())\n",
    "print(\"==============\")\n",
    "print(subset.tail())\n",
    "#```"
   ]
  },
  {
   "cell_type": "code",
   "execution_count": 92,
   "metadata": {},
   "outputs": [
    {
     "name": "stdout",
     "output_type": "stream",
     "text": [
      "country      Afghanistan\n",
      "continent           Asia\n",
      "year                1952\n",
      "lifeExp           28.801\n",
      "pop              8425333\n",
      "gdpPercap        779.445\n",
      "Name: 0, dtype: object\n",
      "==============\n",
      "country      Bangladesh\n",
      "continent          Asia\n",
      "year               1967\n",
      "lifeExp          43.453\n",
      "pop            62821884\n",
      "gdpPercap       721.186\n",
      "Name: 99, dtype: object\n"
     ]
    }
   ],
   "source": [
    "### loc 속성으로 행 데이터 추출하기\n",
    "#```python\n",
    "print(df.loc[0])\n",
    "print(\"==============\")\n",
    "print(df.loc[99])\n",
    "#```"
   ]
  },
  {
   "cell_type": "code",
   "execution_count": 93,
   "metadata": {},
   "outputs": [
    {
     "name": "stdout",
     "output_type": "stream",
     "text": [
      "       country continent  year  lifeExp       pop   gdpPercap\n",
      "1703  Zimbabwe    Africa  2007   43.487  12311143  469.709298\n"
     ]
    }
   ],
   "source": [
    "### 마지막 행 데이터 추출하기\n",
    "#```python\n",
    "print(df.tail(n=1))\n",
    "#```"
   ]
  },
  {
   "cell_type": "code",
   "execution_count": 94,
   "metadata": {},
   "outputs": [
    {
     "name": "stdout",
     "output_type": "stream",
     "text": [
      "         country continent  year  lifeExp       pop    gdpPercap\n",
      "0    Afghanistan      Asia  1952   28.801   8425333   779.445314\n",
      "99    Bangladesh      Asia  1967   43.453  62821884   721.186086\n",
      "999     Mongolia      Asia  1967   51.253   1149500  1226.041130\n"
     ]
    }
   ],
   "source": [
    "### 원하는 다중 행 출력하기\n",
    "#```python\n",
    "print(df.loc[[0,99,999]])\n",
    "#```"
   ]
  },
  {
   "cell_type": "code",
   "execution_count": 95,
   "metadata": {},
   "outputs": [
    {
     "name": "stdout",
     "output_type": "stream",
     "text": [
      "country      Afghanistan\n",
      "continent           Asia\n",
      "year                1957\n",
      "lifeExp           30.332\n",
      "pop              9240934\n",
      "gdpPercap        820.853\n",
      "Name: 1, dtype: object\n",
      "==============\n",
      "country      Bangladesh\n",
      "continent          Asia\n",
      "year               1967\n",
      "lifeExp          43.453\n",
      "pop            62821884\n",
      "gdpPercap       721.186\n",
      "Name: 99, dtype: object\n",
      "==============\n",
      "country      Zimbabwe\n",
      "continent      Africa\n",
      "year             2007\n",
      "lifeExp        43.487\n",
      "pop          12311143\n",
      "gdpPercap     469.709\n",
      "Name: 1703, dtype: object\n"
     ]
    }
   ],
   "source": [
    "### 데이터 행 추출\n",
    "#```python\n",
    "print(df.iloc[1])\n",
    "print(\"==============\")\n",
    "print(df.iloc[99])\n",
    "print(\"==============\")\n",
    "print(df.iloc[-1])\n",
    "#```"
   ]
  },
  {
   "cell_type": "code",
   "execution_count": 96,
   "metadata": {},
   "outputs": [
    {
     "name": "stdout",
     "output_type": "stream",
     "text": [
      "   year       pop\n",
      "0  1952   8425333\n",
      "1  1957   9240934\n",
      "2  1962  10267083\n",
      "3  1967  11537966\n",
      "4  1972  13079460\n"
     ]
    }
   ],
   "source": [
    "### 슬라이싱을 활용한 데이터 추출 (변수명)\n",
    "#```python\n",
    "subset = df.loc[:, ['year','pop']]\n",
    "print(subset.head())\n",
    "#```"
   ]
  },
  {
   "cell_type": "code",
   "execution_count": 97,
   "metadata": {},
   "outputs": [
    {
     "name": "stdout",
     "output_type": "stream",
     "text": [
      "   year       pop   gdpPercap\n",
      "0  1952   8425333  779.445314\n",
      "1  1957   9240934  820.853030\n",
      "2  1962  10267083  853.100710\n",
      "3  1967  11537966  836.197138\n",
      "4  1972  13079460  739.981106\n"
     ]
    }
   ],
   "source": [
    "### 슬라이싱을 활용한 데이터 추출 (정수)\n",
    "#```python\n",
    "subset = df.iloc[:, [2,4,-1]]\n",
    "print(subset.head())\n",
    "#```"
   ]
  },
  {
   "cell_type": "code",
   "execution_count": 98,
   "metadata": {},
   "outputs": [
    {
     "name": "stdout",
     "output_type": "stream",
     "text": [
      "         country  lifeExp    gdpPercap\n",
      "0    Afghanistan   28.801   779.445314\n",
      "99    Bangladesh   43.453   721.186086\n",
      "999     Mongolia   51.253  1226.041130\n",
      "         country  lifeExp    gdpPercap\n",
      "0    Afghanistan   28.801   779.445314\n",
      "99    Bangladesh   43.453   721.186086\n",
      "999     Mongolia   51.253  1226.041130\n"
     ]
    }
   ],
   "source": [
    "### 다양한 방식의 데이터 추출\n",
    "#```python\n",
    "print(df.iloc[[0,99,999],[0,3,5]])\n",
    "print(df.loc[[0,99,999],['country', 'lifeExp','gdpPercap']])\n",
    "#```"
   ]
  },
  {
   "cell_type": "code",
   "execution_count": 99,
   "metadata": {},
   "outputs": [
    {
     "name": "stdout",
     "output_type": "stream",
     "text": [
      "year\n",
      "1952    49.057620\n",
      "1957    51.507401\n",
      "1962    53.609249\n",
      "1967    55.678290\n",
      "1972    57.647386\n",
      "1977    59.570157\n",
      "1982    61.533197\n",
      "1987    63.212613\n",
      "1992    64.160338\n",
      "1997    65.014676\n",
      "2002    65.694923\n",
      "2007    67.007423\n",
      "Name: lifeExp, dtype: float64\n"
     ]
    }
   ],
   "source": [
    "#```python\n",
    "# groupby를 활용한 그룹화한 데이터 기초 통계자산\n",
    "# (연도별) [기대수명]의 평균 구하기\n",
    "# (그룹화) [구하고자 하는 값]\n",
    "print(df.groupby('year')['lifeExp'].mean())\n",
    "#```"
   ]
  },
  {
   "cell_type": "code",
   "execution_count": 101,
   "metadata": {},
   "outputs": [
    {
     "name": "stdout",
     "output_type": "stream",
     "text": [
      "                  lifeExp     gdpPercap\n",
      "year continent                         \n",
      "1952 Africa     39.135500   1252.572466\n",
      "     Americas   53.279840   4079.062552\n",
      "     Asia       46.314394   5195.484004\n",
      "     Europe     64.408500   5661.057435\n",
      "     Oceania    69.255000  10298.085650\n",
      "1957 Africa     41.266346   1385.236062\n",
      "     Americas   55.960280   4616.043733\n",
      "     Asia       49.318544   5787.732940\n",
      "     Europe     66.703067   6963.012816\n",
      "     Oceania    70.295000  11598.522455\n",
      "1962 Africa     43.319442   1598.078825\n",
      "     Americas   58.398760   4901.541870\n",
      "     Asia       51.563223   5729.369625\n",
      "     Europe     68.539233   8365.486814\n",
      "     Oceania    71.085000  12696.452430\n",
      "1967 Africa     45.334538   2050.363801\n",
      "     Americas   60.410920   5668.253496\n",
      "     Asia       54.663640   5971.173374\n",
      "     Europe     69.737600  10143.823757\n",
      "     Oceania    71.310000  14495.021790\n",
      "1972 Africa     47.450942   2339.615674\n",
      "     Americas   62.394920   6491.334139\n",
      "     Asia       57.319269   8187.468699\n",
      "     Europe     70.775033  12479.575246\n",
      "     Oceania    71.910000  16417.333380\n",
      "1977 Africa     49.580423   2585.938508\n",
      "     Americas   64.391560   7352.007126\n",
      "     Asia       59.610556   7791.314020\n",
      "     Europe     71.937767  14283.979110\n",
      "     Oceania    72.855000  17283.957605\n",
      "1982 Africa     51.592865   2481.592960\n",
      "     Americas   66.228840   7506.737088\n",
      "     Asia       62.617939   7434.135157\n",
      "     Europe     72.806400  15617.896551\n",
      "     Oceania    74.290000  18554.709840\n",
      "1987 Africa     53.344788   2282.668991\n",
      "     Americas   68.090720   7793.400261\n",
      "     Asia       64.851182   7608.226508\n",
      "     Europe     73.642167  17214.310727\n",
      "     Oceania    75.320000  20448.040160\n",
      "1992 Africa     53.629577   2281.810333\n",
      "     Americas   69.568360   8044.934406\n",
      "     Asia       66.537212   8639.690248\n",
      "     Europe     74.440100  17061.568084\n",
      "     Oceania    76.945000  20894.045885\n",
      "1997 Africa     53.598269   2378.759555\n",
      "     Americas   71.150480   8889.300863\n",
      "     Asia       68.020515   9834.093295\n",
      "     Europe     75.505167  19076.781802\n",
      "     Oceania    78.190000  24024.175170\n",
      "2002 Africa     53.325231   2599.385159\n",
      "     Americas   72.422040   9287.677107\n",
      "     Asia       69.233879  10174.090397\n",
      "     Europe     76.700600  21711.732422\n",
      "     Oceania    79.740000  26938.778040\n",
      "2007 Africa     54.806038   3089.032605\n",
      "     Americas   73.608120  11003.031625\n",
      "     Asia       70.728485  12473.026870\n",
      "     Europe     77.648600  25054.481636\n",
      "     Oceania    80.719500  29810.188275\n"
     ]
    }
   ],
   "source": [
    "#```python\n",
    "# ([연도명, 대륙별])[[기대수명, 1인 gdp]]의 평균 구하기\n",
    "# (그룹화) [구하고자 하는 값]\n",
    "print(df.groupby(['year','continent'])[['lifeExp','gdpPercap']].mean())\n",
    "#```"
   ]
  },
  {
   "cell_type": "code",
   "execution_count": 102,
   "metadata": {},
   "outputs": [
    {
     "name": "stdout",
     "output_type": "stream",
     "text": [
      "continent\n",
      "Africa      52\n",
      "Americas    25\n",
      "Asia        33\n",
      "Europe      30\n",
      "Oceania      2\n",
      "Name: country, dtype: int64\n"
     ]
    }
   ],
   "source": [
    "### 그룹화한 데이터의 개수 즉, 빈도수 구하기\n",
    "#```python\n",
    "# (대륙별) [나라].빈도수 확인()\n",
    "print(df.groupby('continent')['country'].nunique())\n",
    "#```"
   ]
  },
  {
   "cell_type": "code",
   "execution_count": 103,
   "metadata": {},
   "outputs": [
    {
     "name": "stdout",
     "output_type": "stream",
     "text": [
      "year\n",
      "1952    49.057620\n",
      "1957    51.507401\n",
      "1962    53.609249\n",
      "1967    55.678290\n",
      "1972    57.647386\n",
      "1977    59.570157\n",
      "1982    61.533197\n",
      "1987    63.212613\n",
      "1992    64.160338\n",
      "1997    65.014676\n",
      "2002    65.694923\n",
      "2007    67.007423\n",
      "Name: lifeExp, dtype: float64\n"
     ]
    },
    {
     "data": {
      "image/png": "[encoded data removed]",
      "text/plain": [
       "<Figure size 432x288 with 1 Axes>"
      ]
     },
     "metadata": {
      "needs_background": "light"
     },
     "output_type": "display_data"
    }
   ],
   "source": [
    "## matplotlib.pyplot\n",
    "### matplotlib.pyplot 호출\n",
    "#```python\n",
    "import matplotlib.pyplot as plt\n",
    "\n",
    "# (연도별)[기대수명] 평균내어 변수화\n",
    "global_yearly_life_expectancy = df.groupby('year')['lifeExp'].mean()\n",
    "\n",
    "# 출력\n",
    "print(global_yearly_life_expectancy)\n",
    "\n",
    "# 그래프 출력\n",
    "global_yearly_life_expectancy.plot()\n",
    "plt.show()\n",
    "#```"
   ]
  },
  {
   "cell_type": "code",
   "execution_count": 104,
   "metadata": {},
   "outputs": [
    {
     "name": "stdout",
     "output_type": "stream",
     "text": [
      "           patient  today_parient        date\n",
      "seoul         1580             15  2020-07-09\n",
      "gyeong-gi     1300             10  2020-07-09\n"
     ]
    }
   ],
   "source": [
    "### 데이터프레임 만들기\n",
    "#```python\n",
    "corona_data = pd.DataFrame(\n",
    "    # 실질적으로 들어가게 될 데이터, 컬럼명 : [데이터들]\n",
    "    data = {'city' : ['seoul','gyeong-gi'],\n",
    "           'patient':[1580,1300],\n",
    "           'today_parient' : [15,10],\n",
    "           'date' : ['2020-07-09','2020-07-09']},\n",
    "    # 인덱스 설정\n",
    "    index = ['seoul','gyeong-gi'],\n",
    "    # 컬럼명 설정\n",
    "    columns = ['patient','today_parient','date'])\n",
    "\n",
    "# 출력\n",
    "print(corona_data)\n",
    "#```"
   ]
  },
  {
   "cell_type": "code",
   "execution_count": 105,
   "metadata": {},
   "outputs": [
    {
     "name": "stdout",
     "output_type": "stream",
     "text": [
      "patient                1580\n",
      "today_parient            15\n",
      "date             2020-07-09\n",
      "Name: seoul, dtype: object\n",
      "=============\n",
      "Index(['patient', 'today_parient', 'date'], dtype='object')\n",
      "=============\n",
      "[1580 15 '2020-07-09']\n"
     ]
    }
   ],
   "source": [
    "### 행 위주의 출력\n",
    "#```python\n",
    "seoul = corona_data.loc['seoul']\n",
    "print(seoul)\n",
    "print('=============')\n",
    "print(seoul.index)\n",
    "print('=============')\n",
    "print(seoul.values)\n",
    "#```"
   ]
  },
  {
   "cell_type": "code",
   "execution_count": 106,
   "metadata": {},
   "outputs": [
    {
     "name": "stdout",
     "output_type": "stream",
     "text": [
      "                   Name        Born        Died  Age     Occupation\n",
      "1        William Gosset  1876-06-13  1937-10-16   61   Statistician\n",
      "2  Florence Nightingale  1820-05-12  1910-08-13   90          Nurse\n",
      "3           Marie Curie  1867-11-07  1934-07-04   66        Chemist\n",
      "7          Johann Gauss  1777-04-30  1855-02-23   77  Mathematician\n"
     ]
    }
   ],
   "source": [
    "#```python\n",
    "scientists = pd.read_csv('scientists.csv')\n",
    "scientists.head()\n",
    "\n",
    "# 브로드 캐스팅 : 데이터 프레임에 있는 모든 데이터에 대해 한번에 연산하는 것\n",
    "\n",
    "# 변수선택[행추출['컬럼지정'] > ['컬럼지정'].mean()]\n",
    "print(scientists[scientists['Age'] > scientists['Age'].mean()])\n",
    "#```"
   ]
  },
  {
   "cell_type": "code",
   "execution_count": 108,
   "metadata": {},
   "outputs": [
    {
     "name": "stdout",
     "output_type": "stream",
     "text": [
      "0   1920-07-25\n",
      "1   1876-06-13\n",
      "2   1820-05-12\n",
      "3   1867-11-07\n",
      "4   1907-05-27\n",
      "5   1813-03-15\n",
      "6   1912-06-23\n",
      "7   1777-04-30\n",
      "Name: Born, dtype: datetime64[ns]\n",
      "=============\n",
      "0   1958-04-16\n",
      "1   1937-10-16\n",
      "2   1910-08-13\n",
      "3   1934-07-04\n",
      "4   1964-04-14\n",
      "5   1858-06-16\n",
      "6   1954-06-07\n",
      "7   1855-02-23\n",
      "Name: Died, dtype: datetime64[ns]\n"
     ]
    }
   ],
   "source": [
    "## 시리즈와 데이터프레임처리\n",
    "#```python\n",
    "born_datetime = pd.to_datetime(scientists['Born'], format = '%Y-%m-%d')\n",
    "print(born_datetime)\n",
    "print('=============')\n",
    "died_datetime = pd.to_datetime(scientists['Died'], format = '%Y-%m-%d')\n",
    "print(died_datetime)\n",
    "#```"
   ]
  },
  {
   "cell_type": "code",
   "execution_count": 109,
   "metadata": {},
   "outputs": [
    {
     "name": "stdout",
     "output_type": "stream",
     "text": [
      "                   Name        Born        Died  Age    Occupation    born_dt  \\\n",
      "0     Rosaline Franklin  1920-07-25  1958-04-16   37       Chemist 1920-07-25   \n",
      "1        William Gosset  1876-06-13  1937-10-16   61  Statistician 1876-06-13   \n",
      "2  Florence Nightingale  1820-05-12  1910-08-13   90         Nurse 1820-05-12   \n",
      "3           Marie Curie  1867-11-07  1934-07-04   66       Chemist 1867-11-07   \n",
      "4         Rachel Carson  1907-05-27  1964-04-14   56     Biologist 1907-05-27   \n",
      "\n",
      "     died_dt  \n",
      "0 1958-04-16  \n",
      "1 1937-10-16  \n",
      "2 1910-08-13  \n",
      "3 1934-07-04  \n",
      "4 1964-04-14  \n"
     ]
    }
   ],
   "source": [
    "## 변수['새로운 컬럼할당','새로운 컴럼할당'] = (시계열데이터, 시계열 데이터)\n",
    "#```python\n",
    "scientists['born_dt'], scientists['died_dt'] = (born_datetime , died_datetime)\n",
    "print(scientists.head())\n",
    "#```"
   ]
  },
  {
   "cell_type": "code",
   "execution_count": 110,
   "metadata": {},
   "outputs": [
    {
     "name": "stdout",
     "output_type": "stream",
     "text": [
      "                   Name        Born        Died  Age          Occupation  \\\n",
      "0     Rosaline Franklin  1920-07-25  1958-04-16   37             Chemist   \n",
      "1        William Gosset  1876-06-13  1937-10-16   61        Statistician   \n",
      "2  Florence Nightingale  1820-05-12  1910-08-13   90               Nurse   \n",
      "3           Marie Curie  1867-11-07  1934-07-04   66             Chemist   \n",
      "4         Rachel Carson  1907-05-27  1964-04-14   56           Biologist   \n",
      "5             John Snow  1813-03-15  1858-06-16   45           Physician   \n",
      "6           Alan Turing  1912-06-23  1954-06-07   41  Computer Scientist   \n",
      "7          Johann Gauss  1777-04-30  1855-02-23   77       Mathematician   \n",
      "\n",
      "     born_dt    died_dt age_days_dt  \n",
      "0 1920-07-25 1958-04-16  13779 days  \n",
      "1 1876-06-13 1937-10-16  22404 days  \n",
      "2 1820-05-12 1910-08-13  32964 days  \n",
      "3 1867-11-07 1934-07-04  24345 days  \n",
      "4 1907-05-27 1964-04-14  20777 days  \n",
      "5 1813-03-15 1858-06-16  16529 days  \n",
      "6 1912-06-23 1954-06-07  15324 days  \n",
      "7 1777-04-30 1855-02-23  28422 days  \n"
     ]
    }
   ],
   "source": [
    "### 새로운 컬럼에 할당 - 시계열 - 시계열\n",
    "#```python\n",
    "scientists['age_days_dt'] = (scientists['died_dt'] - scientists['born_dt'])\n",
    "print(scientists)\n",
    "#```"
   ]
  },
  {
   "cell_type": "code",
   "execution_count": null,
   "metadata": {},
   "outputs": [],
   "source": []
  },
  {
   "cell_type": "code",
   "execution_count": null,
   "metadata": {},
   "outputs": [],
   "source": []
  }
 ],
 "metadata": {
  "kernelspec": {
   "display_name": "Python 3",
   "language": "python",
   "name": "python3"
  },
  "language_info": {
   "codemirror_mode": {
    "name": "ipython",
    "version": 3
   },
   "file_extension": ".py",
   "mimetype": "text/x-python",
   "name": "python",
   "nbconvert_exporter": "python",
   "pygments_lexer": "ipython3",
   "version": "3.7.6"
  }
 },
 "nbformat": 4,
 "nbformat_minor": 4
}
