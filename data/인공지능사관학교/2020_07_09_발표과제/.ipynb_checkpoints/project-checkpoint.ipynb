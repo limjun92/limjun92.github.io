{
 "cells": [
  {
   "cell_type": "code",
   "execution_count": 158,
   "metadata": {},
   "outputs": [],
   "source": [
    "import pandas as pd\n",
    "patient = pd.read_csv('PatientInfo.csv')\n",
    "patient_route = pd.read_csv('PatientRoute.csv')\n",
    "# PatientInfo.csv와 PatientRoute.csv를 사용한다."
   ]
  },
  {
   "cell_type": "code",
   "execution_count": 159,
   "metadata": {},
   "outputs": [],
   "source": [
    "matrix = [[] for i in range(len(patient))]\n",
    "for i in range(len(patient)):\n",
    "    matrix[i].append(patient.loc[i].patient_id)\n",
    "    matrix[i].append(patient.loc[i].age)\n",
    "    \n",
    "cnt = 0\n",
    "count = 0\n",
    "\n",
    "for i in range(len(patient_route)):\n",
    "    if matrix[cnt][0] == patient_route.loc[i].patient_id:\n",
    "        count = count+1\n",
    "    else:\n",
    "        matrix[cnt].append(count)\n",
    "        cnt = cnt +1\n",
    "        count = 1"
   ]
  },
  {
   "cell_type": "code",
   "execution_count": 164,
   "metadata": {},
   "outputs": [
    {
     "name": "stdout",
     "output_type": "stream",
     "text": [
      "[1000000001, '50s', 2]\n",
      "[1000000002, '30s', 13]\n",
      "[1000000003, '50s', 2]\n",
      "[1000000004, '20s', 1]\n",
      "[1000000005, '20s', 1]\n"
     ]
    }
   ],
   "source": [
    "for i in range(5):\n",
    "    print(matrix[i])"
   ]
  },
  {
   "cell_type": "code",
   "execution_count": 160,
   "metadata": {},
   "outputs": [],
   "source": [
    "\n",
    "old = [['0s',0,0],['10s',0,0],['20s',0,0],['30s',0,0],['40s',0,0],['50s',0,0],['60s',0,0],['70s',0,0],['80s',0,0],['90s',0,0]]\n",
    "    \n",
    "for i in range(len(matrix)):\n",
    "    for j in range(len(old)):\n",
    "        if matrix[i][1] == old[j][0]:\n",
    "            old[j][1] = old[j][1] + 1\n",
    "            if(len(matrix[i])==3):\n",
    "                old[j][2] = old[j][2] + matrix[i][2]\n"
   ]
  },
  {
   "cell_type": "code",
   "execution_count": 165,
   "metadata": {},
   "outputs": [
    {
     "name": "stdout",
     "output_type": "stream",
     "text": [
      "['0s', 60, 82]\n",
      "['10s', 160, 255]\n",
      "['20s', 860, 1795]\n",
      "['30s', 493, 967]\n",
      "['40s', 483, 914]\n"
     ]
    }
   ],
   "source": [
    "for i in range(5):\n",
    "    print(old[i])"
   ]
  },
  {
   "cell_type": "code",
   "execution_count": 161,
   "metadata": {},
   "outputs": [
    {
     "name": "stdout",
     "output_type": "stream",
     "text": [
      "나이:  0s ||  감염자 수:  60 ||  이동한 평균 횟수:  1.3666666666666667\n",
      "나이:  10s ||  감염자 수:  160 ||  이동한 평균 횟수:  1.59375\n",
      "나이:  20s ||  감염자 수:  860 ||  이동한 평균 횟수:  2.0872093023255816\n",
      "나이:  30s ||  감염자 수:  493 ||  이동한 평균 횟수:  1.9614604462474645\n",
      "나이:  40s ||  감염자 수:  483 ||  이동한 평균 횟수:  1.8923395445134576\n",
      "나이:  50s ||  감염자 수:  625 ||  이동한 평균 횟수:  2.032\n",
      "나이:  60s ||  감염자 수:  423 ||  이동한 평균 횟수:  1.6477541371158393\n",
      "나이:  70s ||  감염자 수:  210 ||  이동한 평균 횟수:  1.4428571428571428\n",
      "나이:  80s ||  감염자 수:  162 ||  이동한 평균 횟수:  1.228395061728395\n",
      "나이:  90s ||  감염자 수:  47 ||  이동한 평균 횟수:  1.0851063829787233\n"
     ]
    }
   ],
   "source": [
    "for i in range(len(old)):\n",
    "    print(\"나이: \", old[i][0], \"||  감염자 수: \" ,old[i][1], \"||  이동한 평균 횟수: \", old[i][2]/old[i][1])"
   ]
  },
  {
   "cell_type": "code",
   "execution_count": null,
   "metadata": {},
   "outputs": [],
   "source": [
    "# 많이 돌아 다닌 나이대의 코로나 확진자 수가 많았다"
   ]
  },
  {
   "cell_type": "code",
   "execution_count": 173,
   "metadata": {},
   "outputs": [
    {
     "data": {
      "image/png": "[encoded data removed]",
      "text/plain": [
       "<Figure size 432x288 with 1 Axes>"
      ]
     },
     "metadata": {
      "needs_background": "light"
     },
     "output_type": "display_data"
    },
    {
     "data": {
      "image/png": "[encoded data removed]",
      "text/plain": [
       "<Figure size 432x288 with 1 Axes>"
      ]
     },
     "metadata": {
      "needs_background": "light"
     },
     "output_type": "display_data"
    }
   ],
   "source": [
    "from matplotlib import pyplot as plt\n",
    "olds = []\n",
    "olds_how_many = []\n",
    "olds_avg = []\n",
    "\n",
    "for i in range(len(old)):\n",
    "    olds.append(old[i][0])\n",
    "    olds_how_many.append(old[i][1])\n",
    "    olds_avg.append(old[i][2]/old[i][1])\n",
    "\n",
    "plt.bar(olds, olds_how_many, color = 'orangered')\n",
    "plt.xlabel('Age group')\n",
    "plt.ylabel('Number')\n",
    "plt.title('Number of confirmers')\n",
    "plt.show()\n",
    "\n",
    "plt.bar(olds, olds_avg, color = 'blueviolet')\n",
    "plt.xlabel('Age group')\n",
    "plt.ylabel('Average')\n",
    "plt.title('Average number of moves')\n",
    "plt.show()"
   ]
  },
  {
   "cell_type": "code",
   "execution_count": null,
   "metadata": {},
   "outputs": [],
   "source": []
  }
 ],
 "metadata": {
  "kernelspec": {
   "display_name": "Python 3",
   "language": "python",
   "name": "python3"
  },
  "language_info": {
   "codemirror_mode": {
    "name": "ipython",
    "version": 3
   },
   "file_extension": ".py",
   "mimetype": "text/x-python",
   "name": "python",
   "nbconvert_exporter": "python",
   "pygments_lexer": "ipython3",
   "version": "3.7.6"
  }
 },
 "nbformat": 4,
 "nbformat_minor": 4
}
