{
 "cells": [
  {
   "cell_type": "markdown",
   "metadata": {},
   "source": [
    "### SQLite 데이터 베이스와 Pandas 데이터프레임"
   ]
  },
  {
   "cell_type": "code",
   "execution_count": null,
   "metadata": {},
   "outputs": [],
   "source": [
    "import sqlite3\n",
    "import pandas as pd\n",
    "import os"
   ]
  },
  {
   "cell_type": "markdown",
   "metadata": {},
   "source": [
    "#### 1). 데이터프레임의 내용을 데이터베이스로 옮겨본다: "
   ]
  },
  {
   "cell_type": "markdown",
   "metadata": {},
   "source": [
    "#### 데이터프레임을 가져온다:"
   ]
  },
  {
   "cell_type": "code",
   "execution_count": null,
   "metadata": {},
   "outputs": [],
   "source": [
    "os.chdir(r\"C:\\Users\\sycha_000\\Documents\\교육사업\\20200701_광주인공지능\\05_SQL 데이터 베이스\\data\")\n",
    "df = pd.read_csv(\"data_studentlist_en.csv\",header=\"infer\")\n",
    "nrows = df.shape[0]\n",
    "my_header = df.columns\n",
    "df.head(3)"
   ]
  },
  {
   "cell_type": "code",
   "execution_count": null,
   "metadata": {},
   "outputs": [],
   "source": [
    "# 구조를 본다.\n",
    "df.info()"
   ]
  },
  {
   "cell_type": "markdown",
   "metadata": {},
   "source": [
    "#### 테이블 내용 가져와 보기:"
   ]
  },
  {
   "cell_type": "code",
   "execution_count": null,
   "metadata": {},
   "outputs": [],
   "source": [
    "# SQLite 데이터 베이스 생성(또는 연결) & Cursor 생성.\n",
    "conn = sqlite3.connect(\"student.db\")                         # 처음 실생시 신규 생성.\n",
    "cur = conn.cursor()"
   ]
  },
  {
   "cell_type": "code",
   "execution_count": null,
   "metadata": {},
   "outputs": [],
   "source": [
    "# MySQL 테이블 생성.\n",
    "sql = \"CREATE TABLE IF NOT EXISTS studentlist ( name TEXT, gender TEXT, age INT, grade INT, absence TEXT, bloodtype TEXT, height REAL, weight REAL);\"\n",
    "cur.execute(sql);"
   ]
  },
  {
   "cell_type": "code",
   "execution_count": null,
   "metadata": {},
   "outputs": [],
   "source": [
    "# MySQL 테이블 내용 클리어.\n",
    "sql = \"DELETE FROM studentlist;\"\n",
    "cur.execute(sql);"
   ]
  },
  {
   "cell_type": "code",
   "execution_count": null,
   "metadata": {},
   "outputs": [],
   "source": [
    "# MySQL 테이블 내용 확인.\n",
    "sql = \"SELECT * FROM studentlist;\"\n",
    "cur.execute(sql);\n",
    "res = cur.fetchall();\n",
    "print(res)"
   ]
  },
  {
   "cell_type": "markdown",
   "metadata": {},
   "source": [
    "#### 한 행 씩 옮겨 담는다:"
   ]
  },
  {
   "cell_type": "code",
   "execution_count": null,
   "metadata": {},
   "outputs": [],
   "source": [
    "# \"test\" 테이블에 행 추가.\n",
    "sql = \"INSERT INTO studentlist VALUES ( ?, ?, ?, ?, ?, ?, ?, ? );\"      # ?를 placeholder로 사용!\n",
    "for i in range(nrows):\n",
    "    x = df.loc[i,:].values                         # 삽입될 내용.\n",
    "    x = list(x)\n",
    "    x[2] = int(x[2])                               # INT64를 INT로 변환.\n",
    "    x[3] = int(x[3])                               # INT64를 INT로 변환.\n",
    "    cur.execute(sql,x);                            # 삽입.  "
   ]
  },
  {
   "cell_type": "code",
   "execution_count": null,
   "metadata": {},
   "outputs": [],
   "source": [
    "# 테이블 내용 보기.\n",
    "sql = \"SELECT * FROM studentlist\"\n",
    "cur.execute(sql);\n",
    "res = cur.fetchall()\n",
    "for x in res:\n",
    "    print(x)"
   ]
  },
  {
   "cell_type": "markdown",
   "metadata": {},
   "source": [
    "#### 2). 데이터베이스의 내용을 데이터프레임으로 옮겨본다: "
   ]
  },
  {
   "cell_type": "code",
   "execution_count": null,
   "metadata": {},
   "outputs": [],
   "source": [
    "# 테이블 내용 가져온다.\n",
    "sql = \"SELECT * FROM studentlist\"\n",
    "cur.execute(sql);\n",
    "res = cur.fetchall()"
   ]
  },
  {
   "cell_type": "code",
   "execution_count": null,
   "metadata": {},
   "outputs": [],
   "source": [
    "# 새로운 데이터 프레임 생성 & 확인.\n",
    "df_new = pd.DataFrame(res, columns=my_header, index=None)\n",
    "df_new.head(5)"
   ]
  },
  {
   "cell_type": "markdown",
   "metadata": {},
   "source": [
    "#### 3). 뒷 정리:"
   ]
  },
  {
   "cell_type": "code",
   "execution_count": null,
   "metadata": {},
   "outputs": [],
   "source": [
    "# 테이블 삭제.\n",
    "sql = \"DROP TABLE studentlist;\"\n",
    "cur.execute(sql);"
   ]
  },
  {
   "cell_type": "code",
   "execution_count": null,
   "metadata": {},
   "outputs": [],
   "source": [
    "conn.close()"
   ]
  },
  {
   "cell_type": "code",
   "execution_count": null,
   "metadata": {},
   "outputs": [],
   "source": []
  }
 ],
 "metadata": {
  "kernelspec": {
   "display_name": "Python 3",
   "language": "python",
   "name": "python3"
  },
  "language_info": {
   "codemirror_mode": {
    "name": "ipython",
    "version": 3
   },
   "file_extension": ".py",
   "mimetype": "text/x-python",
   "name": "python",
   "nbconvert_exporter": "python",
   "pygments_lexer": "ipython3",
   "version": "3.7.4"
  }
 },
 "nbformat": 4,
 "nbformat_minor": 2
}
