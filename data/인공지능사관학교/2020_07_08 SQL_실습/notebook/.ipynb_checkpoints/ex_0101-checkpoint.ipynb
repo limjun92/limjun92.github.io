{
 "cells": [
  {
   "cell_type": "markdown",
   "metadata": {},
   "source": [
    "### SQLite 데이터 베이스 Python으로 접속"
   ]
  },
  {
   "cell_type": "code",
   "execution_count": null,
   "metadata": {},
   "outputs": [],
   "source": [
    "import sqlite3\n",
    "import os"
   ]
  },
  {
   "cell_type": "markdown",
   "metadata": {},
   "source": [
    "#### 테이블 내용 가져와 보기:"
   ]
  },
  {
   "cell_type": "code",
   "execution_count": null,
   "metadata": {},
   "outputs": [],
   "source": [
    "# SQLite 에 연결 & Cursor 생성.\n",
    "os.chdir(r\"C:\\Users\\sycha_000\\Documents\\교육사업\\20200701_광주인공지능\\05_SQL 데이터 베이스\\database\")\n",
    "conn = sqlite3.connect(\"world.db\")\n",
    "cur = conn.cursor()"
   ]
  },
  {
   "cell_type": "code",
   "execution_count": null,
   "metadata": {},
   "outputs": [],
   "source": [
    "# MySQL 행 가져오기.\n",
    "sql = \"SELECT Name, Code, Region, Population FROM Country ORDER BY Population DESC;\"\n",
    "cur.execute(sql);\n",
    "res = cur.fetchall()"
   ]
  },
  {
   "cell_type": "code",
   "execution_count": null,
   "metadata": {},
   "outputs": [],
   "source": [
    "# 자료형은 List of tuples.\n",
    "print(type(res))\n",
    "print(type(res[0]))"
   ]
  },
  {
   "cell_type": "code",
   "execution_count": null,
   "metadata": {},
   "outputs": [],
   "source": [
    "for x in res:\n",
    "    print(x)"
   ]
  },
  {
   "cell_type": "code",
   "execution_count": null,
   "metadata": {},
   "outputs": [],
   "source": [
    "conn.close()"
   ]
  },
  {
   "cell_type": "markdown",
   "metadata": {},
   "source": [
    "#### 테이블 생성, 행 삽입, 출력, 테이블 삭제:"
   ]
  },
  {
   "cell_type": "code",
   "execution_count": null,
   "metadata": {},
   "outputs": [],
   "source": [
    "# SQLite 에 연결 & Cursor 생성.\n",
    "os.chdir(r\"C:\\Users\\sycha_000\\Documents\\교육사업\\20200701_광주인공지능\\05_SQL 데이터 베이스\\database\")\n",
    "conn = sqlite3.connect(\"scratch.db\")\n",
    "cur = conn.cursor()"
   ]
  },
  {
   "cell_type": "code",
   "execution_count": null,
   "metadata": {},
   "outputs": [],
   "source": [
    "# MySQL 테이블 생성.\n",
    "sql = \"CREATE TABLE IF NOT EXISTS test ( a INT, b TEXT, c TEXT );\"\n",
    "cur.execute(sql);"
   ]
  },
  {
   "cell_type": "code",
   "execution_count": null,
   "metadata": {},
   "outputs": [],
   "source": [
    "# \"test\" 테이블에 행 추가.\n",
    "sql = \"INSERT INTO test VALUES ( ?, ?, ? );\"      # ?를 placeholder로 사용!\n",
    "x = [1, \"Hello\", \"World\"]                        # 삽입될 내용.\n",
    "cur.execute(sql,x);                                # 실행!"
   ]
  },
  {
   "cell_type": "code",
   "execution_count": null,
   "metadata": {},
   "outputs": [],
   "source": [
    "# \"test\" 테이블에 행 계속 추가.\n",
    "sqls = [\"INSERT INTO test VALUES ( 2, 'This', 'Right here!' );\", \n",
    "        \"INSERT INTO test ( b, c ) VALUES ( 'That', 'Over there!' );\",\n",
    "        \"INSERT INTO test ( a, b, c ) SELECT id, name, description FROM item;\"] \n",
    "for a_sql in sqls:\n",
    "    cur.execute(a_sql);"
   ]
  },
  {
   "cell_type": "code",
   "execution_count": null,
   "metadata": {},
   "outputs": [],
   "source": [
    "# 테이블 내용 보기.\n",
    "sql = \"SELECT * FROM test\"\n",
    "cur.execute(sql);\n",
    "res = cur.fetchall()\n",
    "for x in res:\n",
    "    print(x)"
   ]
  },
  {
   "cell_type": "code",
   "execution_count": null,
   "metadata": {},
   "outputs": [],
   "source": [
    "sql = \"DROP TABLE test;\"\n",
    "cur.execute(sql);"
   ]
  },
  {
   "cell_type": "code",
   "execution_count": null,
   "metadata": {},
   "outputs": [],
   "source": [
    "conn.close()"
   ]
  },
  {
   "cell_type": "code",
   "execution_count": null,
   "metadata": {},
   "outputs": [],
   "source": []
  }
 ],
 "metadata": {
  "kernelspec": {
   "display_name": "Python 3",
   "language": "python",
   "name": "python3"
  },
  "language_info": {
   "codemirror_mode": {
    "name": "ipython",
    "version": 3
   },
   "file_extension": ".py",
   "mimetype": "text/x-python",
   "name": "python",
   "nbconvert_exporter": "python",
   "pygments_lexer": "ipython3",
   "version": "3.7.4"
  }
 },
 "nbformat": 4,
 "nbformat_minor": 2
}
