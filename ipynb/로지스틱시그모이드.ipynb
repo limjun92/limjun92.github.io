{
  "nbformat": 4,
  "nbformat_minor": 0,
  "metadata": {
    "colab": {
      "name": "로지스틱시그모이드.ipynb",
      "provenance": [],
      "authorship_tag": "ABX9TyPpk8GNlYDD4ji24l/aUK+1",
      "include_colab_link": true
    },
    "kernelspec": {
      "name": "python3",
      "display_name": "Python 3"
    }
  },
  "cells": [
    {
      "cell_type": "markdown",
      "metadata": {
        "id": "view-in-github",
        "colab_type": "text"
      },
      "source": [
        "<a href=\"https://colab.research.google.com/github/limjun92/limjun92.github.io/blob/master/ipynb/%EB%A1%9C%EC%A7%80%EC%8A%A4%ED%8B%B1%EC%8B%9C%EA%B7%B8%EB%AA%A8%EC%9D%B4%EB%93%9C.ipynb\" target=\"_parent\"><img src=\"https://colab.research.google.com/assets/colab-badge.svg\" alt=\"Open In Colab\"/></a>"
      ]
    },
    {
      "cell_type": "code",
      "metadata": {
        "id": "8fcZsrdcj-nJ",
        "colab_type": "code",
        "colab": {
          "base_uri": "https://localhost:8080/",
          "height": 297
        },
        "outputId": "85d298b9-0d68-4660-dd1c-1b5473fff92b"
      },
      "source": [
        "import matplotlib.pyplot as plt\n",
        "import numpy as np\n",
        "\n",
        "def sigmoid(z):\n",
        "  return 1.0 / (1.0 + np.exp(-z))\n",
        "\n",
        "z = np.arange(-7, 7, 0.1)\n",
        "f_x = sigmoid(z)\n",
        "\n",
        "plt.plot(z,f_x)\n",
        "plt.axvline(0, 0, color = 'k' )\n",
        "plt.ylim(-0,1,1,1)\n",
        "plt.xlabel('z')\n",
        "plt.ylabel('f(x)')\n",
        "\n",
        "plt.yticks([0.0,0.5,1.0])\n",
        "ax = plt.gca()\n",
        "ax.yaxis.grid(True)\n",
        "plt.tight_layout()\n",
        "plt.show()"
      ],
      "execution_count": 3,
      "outputs": [
        {
          "output_type": "display_data",
          "data": {
            "image/png": "[encoded data removed]",
            "text/plain": [
              "<Figure size 432x288 with 1 Axes>"
            ]
          },
          "metadata": {
            "tags": [],
            "needs_background": "light"
          }
        }
      ]
    }
  ]
}