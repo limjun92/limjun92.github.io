{
  "nbformat": 4,
  "nbformat_minor": 0,
  "metadata": {
    "colab": {
      "name": "kmeanplus.ipynb",
      "provenance": [],
      "authorship_tag": "ABX9TyOYD09HVU69hoL/EiKI5c4a",
      "include_colab_link": true
    },
    "kernelspec": {
      "name": "python3",
      "display_name": "Python 3"
    }
  },
  "cells": [
    {
      "cell_type": "markdown",
      "metadata": {
        "id": "view-in-github",
        "colab_type": "text"
      },
      "source": [
        "<a href=\"https://colab.research.google.com/github/limjun92/limjun92.github.io/blob/master/ipynb/kmeanplus.ipynb\" target=\"_parent\"><img src=\"https://colab.research.google.com/assets/colab-badge.svg\" alt=\"Open In Colab\"/></a>"
      ]
    },
    {
      "cell_type": "code",
      "metadata": {
        "id": "lYXvE_ayFNvR",
        "colab_type": "code",
        "colab": {}
      },
      "source": [
        "from sklearn.datasets import make_blobs\n",
        "import matplotlib.pyplot as plt\n",
        "\n",
        "\n",
        "X,y = make_blobs(n_samples = 150,\n",
        "                 n_features = 2,\n",
        "                 centers = 3,\n",
        "                 cluster_std = 0.5,\n",
        "                 shuffle = True,\n",
        "                 random_state = 0)"
      ],
      "execution_count": 2,
      "outputs": []
    },
    {
      "cell_type": "code",
      "metadata": {
        "id": "9GL8lqPXFPAf",
        "colab_type": "code",
        "colab": {
          "base_uri": "https://localhost:8080/",
          "height": 297
        },
        "outputId": "5e612d61-ad97-401f-924f-9c29bf482729"
      },
      "source": [
        "from sklearn.cluster import KMeans\n",
        "distortions = []\n",
        "for i in range(1,11):\n",
        "  km = KMeans(n_clusters =i,  \n",
        "              init='k-means++',  \n",
        "              n_init=10,      \n",
        "              max_iter=300,   \n",
        "              random_state=0)\n",
        "  km.fit(X)\n",
        "  distortions.append(km.inertia_)\n",
        "\n",
        "plt.plot(range(1,11),distortions, marker='o')\n",
        "plt.xlabel('Number of clusters')\n",
        "plt.ylabel('Distortion')\n",
        "plt.tight_layout()\n",
        "plt.show()"
      ],
      "execution_count": 3,
      "outputs": [
        {
          "output_type": "display_data",
          "data": {
            "image/png": "[encoded data removed]",
            "text/plain": [
              "<Figure size 432x288 with 1 Axes>"
            ]
          },
          "metadata": {
            "tags": [],
            "needs_background": "light"
          }
        }
      ]
    }
  ]
}